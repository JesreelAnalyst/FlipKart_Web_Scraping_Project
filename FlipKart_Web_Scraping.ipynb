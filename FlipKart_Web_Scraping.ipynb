{
 "cells": [
  {
   "cell_type": "markdown",
   "id": "7f0a8d4d",
   "metadata": {},
   "source": [
    "# Web Scraping of FlipKart"
   ]
  },
  {
   "cell_type": "code",
   "execution_count": 1,
   "id": "858f6d19",
   "metadata": {},
   "outputs": [],
   "source": [
    "#import libraries\n",
    "from bs4 import BeautifulSoup as BS\n",
    "import requests as req\n",
    "import smtplib as smt  # sending emails to yourself\n",
    "import time\n",
    "import datetime\n",
    "import pandas as pd\n",
    "import numpy as np\n",
    "import csv"
   ]
  },
  {
   "cell_type": "code",
   "execution_count": 2,
   "id": "e0c18646",
   "metadata": {},
   "outputs": [],
   "source": [
    "# Connect to website\n",
    "\n",
    "url='your flipkart product link'\n",
    "\n",
    "# link to find your user agent: https://httpbin.org/get\n",
    "\n",
    "headers={\"User-Agent\": paste user agent here,\"Accept-Encoding\":\"gzip, deflate\", \"Accept\":\"text/html,application/xhtml+xml,application/xml;q=0.9,*/*;q=0.8\", \"DNT\":\"1\",\"Connection\":\"close\",\"Upgrade-Insecure-Requests\":\"1\"}\n",
    "\n",
    "page=req.get(url,headers=headers)\n",
    "\n",
    "soup1=BS(page.content,'html.parser')\n",
    "soup2=BS(soup1.prettify(),'html.parser')\n",
    "\n",
    "title=soup2.find('span', class_='B_NuCI').get_text()\n",
    "price=soup2.find(class_='_30jeq3 _16Jk6d').get_text()\n",
    "\n",
    "date=datetime.date.today()\n",
    "\n"
   ]
  },
  {
   "cell_type": "code",
   "execution_count": null,
   "id": "6c175c82",
   "metadata": {},
   "outputs": [],
   "source": [
    "price=price.strip()[1:]\n",
    "title=title.strip()\n",
    "\n",
    "print(title)\n",
    "print(price)"
   ]
  },
  {
   "cell_type": "code",
   "execution_count": 6,
   "id": "3432ffc2",
   "metadata": {},
   "outputs": [],
   "source": [
    "header=['Title','Price','Date']\n",
    "data=[title,price,date]\n",
    "\n",
    "# run this only once and if you were to restart your device dont run it again\n",
    "#recommended to comment this after first run\n",
    "with open('FlipKartScraperData.csv','w',newline='',encoding='UTF8') as f:\n",
    "    writer=csv.writer(f)\n",
    "    writer.writerow(header)\n",
    "    writer.writerow(data)"
   ]
  },
  {
   "cell_type": "code",
   "execution_count": null,
   "id": "0ffaf5d3",
   "metadata": {},
   "outputs": [],
   "source": [
    "df=pd.read_csv(r'local path')\n",
    "df"
   ]
  },
  {
   "cell_type": "code",
   "execution_count": 8,
   "id": "87131e56",
   "metadata": {},
   "outputs": [],
   "source": [
    "#appending data\n",
    "with open('FlipKartScraperData.csv','a+',newline='',encoding='UTF8') as f:\n",
    "    writer=csv.writer(f)\n",
    "    writer.writerow(data)"
   ]
  },
  {
   "cell_type": "code",
   "execution_count": 10,
   "id": "d862d5d0",
   "metadata": {},
   "outputs": [],
   "source": [
    "def price_check():\n",
    "    url='your product link '\n",
    "\n",
    "    headers={\"User-Agent\": paste user agent here,\"Accept-Encoding\":\"gzip, deflate\", \"Accept\":\"text/html,application/xhtml+xml,application/xml;q=0.9,*/*;q=0.8\", \"DNT\":\"1\",\"Connection\":\"close\",\"Upgrade-Insecure-Requests\":\"1\"}\n",
    "\n",
    "    page=req.get(url,headers=headers)\n",
    "\n",
    "    soup1=BS(page.content,'html.parser')\n",
    "    soup2=BS(soup1.prettify(),'html.parser')\n",
    "\n",
    "    title=soup2.find('span', class_='B_NuCI').get_text()\n",
    "    price=soup2.find(class_='_30jeq3 _16Jk6d').get_text()\n",
    "\n",
    "    price=price.strip()[1:]\n",
    "    title=title.strip()\n",
    "    date=datetime.date.today()\n",
    "    \n",
    "    header=['Title','Price','Date']\n",
    "    data=[title,price,date]\n",
    "    \n",
    "    with open('FlipKartScraperData.csv','a+',newline='',encoding='UTF8') as f:\n",
    "        writer=csv.writer(f)\n",
    "        writer.writerow(data)\n",
    "    if(price<15000):\n",
    "        send_mail()\n",
    "    "
   ]
  },
  {
   "cell_type": "code",
   "execution_count": null,
   "id": "88b6afa2",
   "metadata": {},
   "outputs": [],
   "source": [
    "while(True):\n",
    "    price_check()\n",
    "    time.sleep(86400) # once per day"
   ]
  },
  {
   "cell_type": "code",
   "execution_count": null,
   "id": "db87cc91",
   "metadata": {},
   "outputs": [],
   "source": [
    "#sending mail \n",
    "def send_mail():\n",
    "    server = smtplib.SMTP_SSL('smtp.gmail.com',465)\n",
    "    server.ehlo()\n",
    "    server.starttls()\n",
    "    server.ehlo()\n",
    "    server.login('your_email_address','your_email_password')\n",
    "    \n",
    "    subject = \"Now is your chance to buy!\"\n",
    "    body = \"Buy your desired product now. Link here : 'enter flipkart link'\"\n",
    "   \n",
    "    msg = f\"Subject: {subject}\\n\\n{body}\"\n",
    "    \n",
    "    server.sendmail(\n",
    "        'your_email_address',\n",
    "        msg\n",
    "     \n",
    "    )"
   ]
  }
 ],
 "metadata": {
  "kernelspec": {
   "display_name": "Python 3 (ipykernel)",
   "language": "python",
   "name": "python3"
  },
  "language_info": {
   "codemirror_mode": {
    "name": "ipython",
    "version": 3
   },
   "file_extension": ".py",
   "mimetype": "text/x-python",
   "name": "python",
   "nbconvert_exporter": "python",
   "pygments_lexer": "ipython3",
   "version": "3.10.9"
  }
 },
 "nbformat": 4,
 "nbformat_minor": 5
}
